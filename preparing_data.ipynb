{
 "metadata": {
  "name": ""
 },
 "nbformat": 3,
 "nbformat_minor": 0,
 "worksheets": [
  {
   "cells": [
    {
     "cell_type": "markdown",
     "metadata": {},
     "source": [
      "# TODO:\n",
      "\n",
      "* ~~make sure both train and test sets are labeled!~~\n",
      "* ~~generate train-test pairs using random sampling~~\n",
      "* generate separate unlabeled pairs "
     ]
    },
    {
     "cell_type": "code",
     "collapsed": false,
     "input": [
      "import os\n",
      "import csv\n",
      "from csv import Dialect\n",
      "\n",
      "import random\n",
      "\n",
      "import pandas as pd"
     ],
     "language": "python",
     "metadata": {},
     "outputs": [
      {
       "output_type": "stream",
       "stream": "stderr",
       "text": [
        "/home/blannon/epd/lib/python2.7/site-packages/pytz/__init__.py:35: UserWarning: Module argparse was already imported from /home/blannon/epd/lib/python2.7/argparse.pyc, but /home/blannon/epd/lib/python2.7/site-packages is being added to sys.path\n",
        "  from pkg_resources import resource_stream\n"
       ]
      }
     ],
     "prompt_number": 1
    },
    {
     "cell_type": "code",
     "collapsed": false,
     "input": [
      "def print_full(x):\n",
      "    pd.set_option('display.max_rows', len(x))\n",
      "    return x\n",
      "\n",
      "def print_df_full(df):\n",
      "    nrows, ncols = df.shape\n",
      "    pd.set_option('display.max_rows', nrows)\n",
      "    pd.set_option('display.max_columns', ncols)\n",
      "    return df"
     ],
     "language": "python",
     "metadata": {},
     "outputs": [],
     "prompt_number": 2
    },
    {
     "cell_type": "code",
     "collapsed": false,
     "input": [
      "class mydialect(Dialect):\n",
      "    delimiter=\",\" \n",
      "    quotechar='\"'\n",
      "    doublequote= False\n",
      "    skipinitialspace = False\n",
      "    lineterminator=\"\\n\"\n",
      "    quoting=csv.QUOTE_ALL\n",
      "    strict=True\n",
      "    escapechar=\"\\\\\"\n",
      "    \n",
      "class libshorttext(Dialect):\n",
      "    delimiter=\"\\t\" \n",
      "    quotechar='\"'\n",
      "    doublequote= False\n",
      "    skipinitialspace = False\n",
      "    lineterminator=\"\\n\"\n",
      "    quoting=csv.QUOTE_MINIMAL\n",
      "    strict=True\n",
      "    escapechar=\"\\\\\"\n",
      "    \n",
      "DATA_DIR = '/home/blannon/og_data/expenditures/crp_expenditures_nov4'"
     ],
     "language": "python",
     "metadata": {},
     "outputs": [],
     "prompt_number": 3
    },
    {
     "cell_type": "code",
     "collapsed": false,
     "input": [
      "SELECTED = open(os.path.join(DATA_DIR,'crp_expenditures_nov4_0-1-2-7-16.txt'))\n",
      "df = pd.read_csv(SELECTED, dialect=mydialect)"
     ],
     "language": "python",
     "metadata": {},
     "outputs": [],
     "prompt_number": 4
    },
    {
     "cell_type": "code",
     "collapsed": false,
     "input": [
      "df.head(20)"
     ],
     "language": "python",
     "metadata": {},
     "outputs": [
      {
       "html": [
        "<div style=\"max-height:1000px;max-width:1500px;overflow:auto;\">\n",
        "<table border=\"1\" class=\"dataframe\">\n",
        "  <thead>\n",
        "    <tr style=\"text-align: right;\">\n",
        "      <th></th>\n",
        "      <th>cycle</th>\n",
        "      <th>ID</th>\n",
        "      <th>TransID</th>\n",
        "      <th>Expcode</th>\n",
        "      <th>Descrip</th>\n",
        "    </tr>\n",
        "  </thead>\n",
        "  <tbody>\n",
        "    <tr>\n",
        "      <th>0 </th>\n",
        "      <td> 2002</td>\n",
        "      <td>  1</td>\n",
        "      <td>       SB17.8045</td>\n",
        "      <td> N99</td>\n",
        "      <td>                 Debt Reduction</td>\n",
        "    </tr>\n",
        "    <tr>\n",
        "      <th>1 </th>\n",
        "      <td> 2002</td>\n",
        "      <td>  2</td>\n",
        "      <td>       SB17.8024</td>\n",
        "      <td> U10</td>\n",
        "      <td>       Printing - Invoice 11602</td>\n",
        "    </tr>\n",
        "    <tr>\n",
        "      <th>2 </th>\n",
        "      <td> 2002</td>\n",
        "      <td>  3</td>\n",
        "      <td>       SB17.8004</td>\n",
        "      <td> W10</td>\n",
        "      <td>                         Salary</td>\n",
        "    </tr>\n",
        "    <tr>\n",
        "      <th>3 </th>\n",
        "      <td> 2002</td>\n",
        "      <td>  4</td>\n",
        "      <td>       SB17.8027</td>\n",
        "      <td> W10</td>\n",
        "      <td>                         Salary</td>\n",
        "    </tr>\n",
        "    <tr>\n",
        "      <th>4 </th>\n",
        "      <td> 2002</td>\n",
        "      <td>  5</td>\n",
        "      <td>       SB17.8088</td>\n",
        "      <td> W10</td>\n",
        "      <td>                         Salary</td>\n",
        "    </tr>\n",
        "    <tr>\n",
        "      <th>5 </th>\n",
        "      <td> 2002</td>\n",
        "      <td>  6</td>\n",
        "      <td> 1114200146E3224</td>\n",
        "      <td>    </td>\n",
        "      <td>                    ROOM RENTAL</td>\n",
        "    </tr>\n",
        "    <tr>\n",
        "      <th>6 </th>\n",
        "      <td> 2002</td>\n",
        "      <td>  7</td>\n",
        "      <td> 1114200148E3282</td>\n",
        "      <td>    </td>\n",
        "      <td>             TELECOMMUNICATIONS</td>\n",
        "    </tr>\n",
        "    <tr>\n",
        "      <th>7 </th>\n",
        "      <td> 2002</td>\n",
        "      <td>  8</td>\n",
        "      <td>             NaN</td>\n",
        "      <td> N10</td>\n",
        "      <td>    trnsfr. Landry Overcontrib.</td>\n",
        "    </tr>\n",
        "    <tr>\n",
        "      <th>8 </th>\n",
        "      <td> 2002</td>\n",
        "      <td>  9</td>\n",
        "      <td>       SB17.8124</td>\n",
        "      <td> A40</td>\n",
        "      <td>       Airfare, Meals &amp; Lodging</td>\n",
        "    </tr>\n",
        "    <tr>\n",
        "      <th>9 </th>\n",
        "      <td> 2002</td>\n",
        "      <td> 10</td>\n",
        "      <td>       SB17.8087</td>\n",
        "      <td>    </td>\n",
        "      <td> Donation - Purchase of Tickets</td>\n",
        "    </tr>\n",
        "    <tr>\n",
        "      <th>10</th>\n",
        "      <td> 2002</td>\n",
        "      <td> 11</td>\n",
        "      <td>       SB17.8003</td>\n",
        "      <td> W10</td>\n",
        "      <td>                         Salary</td>\n",
        "    </tr>\n",
        "    <tr>\n",
        "      <th>11</th>\n",
        "      <td> 2002</td>\n",
        "      <td> 12</td>\n",
        "      <td>       SB17.8023</td>\n",
        "      <td> W10</td>\n",
        "      <td>                         Salary</td>\n",
        "    </tr>\n",
        "    <tr>\n",
        "      <th>12</th>\n",
        "      <td> 2002</td>\n",
        "      <td> 13</td>\n",
        "      <td>       SB17.8076</td>\n",
        "      <td> W10</td>\n",
        "      <td>                         Salary</td>\n",
        "    </tr>\n",
        "    <tr>\n",
        "      <th>13</th>\n",
        "      <td> 2002</td>\n",
        "      <td> 14</td>\n",
        "      <td>       SB17.8103</td>\n",
        "      <td> W10</td>\n",
        "      <td>                         Salary</td>\n",
        "    </tr>\n",
        "    <tr>\n",
        "      <th>14</th>\n",
        "      <td> 2002</td>\n",
        "      <td> 15</td>\n",
        "      <td>       SB17.8020</td>\n",
        "      <td> M00</td>\n",
        "      <td>                  Advertisement</td>\n",
        "    </tr>\n",
        "    <tr>\n",
        "      <th>15</th>\n",
        "      <td> 2002</td>\n",
        "      <td> 16</td>\n",
        "      <td>       SB17.8047</td>\n",
        "      <td> A70</td>\n",
        "      <td>                    Electricity</td>\n",
        "    </tr>\n",
        "    <tr>\n",
        "      <th>16</th>\n",
        "      <td> 2002</td>\n",
        "      <td> 17</td>\n",
        "      <td>       SB17.8096</td>\n",
        "      <td> A40</td>\n",
        "      <td>              Hotel CBC Weekend</td>\n",
        "    </tr>\n",
        "    <tr>\n",
        "      <th>17</th>\n",
        "      <td> 2002</td>\n",
        "      <td> 19</td>\n",
        "      <td>       SB17.8075</td>\n",
        "      <td> W10</td>\n",
        "      <td>                         Salary</td>\n",
        "    </tr>\n",
        "    <tr>\n",
        "      <th>18</th>\n",
        "      <td> 2002</td>\n",
        "      <td> 20</td>\n",
        "      <td>       SB17.8089</td>\n",
        "      <td>    </td>\n",
        "      <td>                          Slary</td>\n",
        "    </tr>\n",
        "    <tr>\n",
        "      <th>19</th>\n",
        "      <td> 2002</td>\n",
        "      <td> 21</td>\n",
        "      <td> 1114200148E3268</td>\n",
        "      <td> A70</td>\n",
        "      <td>                   OCTOBER RENT</td>\n",
        "    </tr>\n",
        "  </tbody>\n",
        "</table>\n",
        "</div>"
       ],
       "metadata": {},
       "output_type": "pyout",
       "prompt_number": 5,
       "text": [
        "    cycle  ID          TransID Expcode                         Descrip\n",
        "0    2002   1        SB17.8045     N99                  Debt Reduction\n",
        "1    2002   2        SB17.8024     U10        Printing - Invoice 11602\n",
        "2    2002   3        SB17.8004     W10                          Salary\n",
        "3    2002   4        SB17.8027     W10                          Salary\n",
        "4    2002   5        SB17.8088     W10                          Salary\n",
        "5    2002   6  1114200146E3224                             ROOM RENTAL\n",
        "6    2002   7  1114200148E3282                      TELECOMMUNICATIONS\n",
        "7    2002   8              NaN     N10     trnsfr. Landry Overcontrib.\n",
        "8    2002   9        SB17.8124     A40        Airfare, Meals & Lodging\n",
        "9    2002  10        SB17.8087          Donation - Purchase of Tickets\n",
        "10   2002  11        SB17.8003     W10                          Salary\n",
        "11   2002  12        SB17.8023     W10                          Salary\n",
        "12   2002  13        SB17.8076     W10                          Salary\n",
        "13   2002  14        SB17.8103     W10                          Salary\n",
        "14   2002  15        SB17.8020     M00                   Advertisement\n",
        "15   2002  16        SB17.8047     A70                     Electricity\n",
        "16   2002  17        SB17.8096     A40               Hotel CBC Weekend\n",
        "17   2002  19        SB17.8075     W10                          Salary\n",
        "18   2002  20        SB17.8089                                   Slary\n",
        "19   2002  21  1114200148E3268     A70                    OCTOBER RENT"
       ]
      }
     ],
     "prompt_number": 5
    },
    {
     "cell_type": "code",
     "collapsed": false,
     "input": [
      "df['Expcode'] = df.Expcode.map(lambda x: x.upper().replace(' ',''))"
     ],
     "language": "python",
     "metadata": {},
     "outputs": [],
     "prompt_number": 6
    },
    {
     "cell_type": "code",
     "collapsed": false,
     "input": [
      "df.Expcode.unique()"
     ],
     "language": "python",
     "metadata": {},
     "outputs": [
      {
       "metadata": {},
       "output_type": "pyout",
       "prompt_number": 7,
       "text": [
        "array(['N99', 'U10', 'W10', '', 'N10', 'A40', 'M00', 'A70', 'F50', 'M20',\n",
        "       'A00', 'R50', 'F20', 'F30', 'R35', 'A60', 'U00', 'C10', 'R00',\n",
        "       'U50', 'C30', 'F00', 'S20', 'R20', 'S50', 'R30', 'T50', 'T30',\n",
        "       'S10', 'R10', 'T20', 'A30', 'T10', 'R40', 'M01', 'M10', 'F10',\n",
        "       'U30', 'F40', 'M40', 'A50', 'U60', 'U20', 'M50', 'A20', 'M30',\n",
        "       '10000', 'DE', 'T00', 'C00'], dtype=object)"
       ]
      }
     ],
     "prompt_number": 7
    },
    {
     "cell_type": "code",
     "collapsed": false,
     "input": [
      "df.groupby(df.Expcode.str.len() > 0).agg({'ID': lambda x: x.size})"
     ],
     "language": "python",
     "metadata": {},
     "outputs": [
      {
       "html": [
        "<div style=\"max-height:1000px;max-width:1500px;overflow:auto;\">\n",
        "<table border=\"1\" class=\"dataframe\">\n",
        "  <thead>\n",
        "    <tr style=\"text-align: right;\">\n",
        "      <th></th>\n",
        "      <th>ID</th>\n",
        "    </tr>\n",
        "    <tr>\n",
        "      <th>Expcode</th>\n",
        "      <th></th>\n",
        "    </tr>\n",
        "  </thead>\n",
        "  <tbody>\n",
        "    <tr>\n",
        "      <th>False</th>\n",
        "      <td>  2415650</td>\n",
        "    </tr>\n",
        "    <tr>\n",
        "      <th>True </th>\n",
        "      <td> 16615143</td>\n",
        "    </tr>\n",
        "  </tbody>\n",
        "</table>\n",
        "</div>"
       ],
       "metadata": {},
       "output_type": "pyout",
       "prompt_number": 8,
       "text": [
        "               ID\n",
        "Expcode          \n",
        "False     2415650\n",
        "True     16615143"
       ]
      }
     ],
     "prompt_number": 8
    },
    {
     "cell_type": "code",
     "collapsed": false,
     "input": [
      "labeled = df[df.Expcode != ''][['Expcode','Descrip']]\n",
      "unlabeled = df[df.Expcode == '']"
     ],
     "language": "python",
     "metadata": {},
     "outputs": [],
     "prompt_number": 9
    },
    {
     "cell_type": "code",
     "collapsed": false,
     "input": [
      "del df"
     ],
     "language": "python",
     "metadata": {},
     "outputs": [],
     "prompt_number": 10
    },
    {
     "cell_type": "code",
     "collapsed": false,
     "input": [
      "all_vc = labeled.Expcode.value_counts()\n",
      "all_vc"
     ],
     "language": "python",
     "metadata": {},
     "outputs": [
      {
       "metadata": {},
       "output_type": "pyout",
       "prompt_number": 11,
       "text": [
        "R30      5905516\n",
        "R10      2464295\n",
        "R50      1505534\n",
        "W10      1290044\n",
        "A40      1067213\n",
        "A70       605051\n",
        "U10       422146\n",
        "F30       328199\n",
        "A00       323501\n",
        "F40       308831\n",
        "A30       240556\n",
        "N10       236531\n",
        "R20       210768\n",
        "R40       196112\n",
        "C30       165610\n",
        "A60       149072\n",
        "F50       114917\n",
        "N99        96497\n",
        "F10        92129\n",
        "C10        82316\n",
        "S50        80553\n",
        "R00        72087\n",
        "M00        61800\n",
        "A20        53709\n",
        "F00        49889\n",
        "U00        45946\n",
        "T30        43121\n",
        "U50        42126\n",
        "M10        40501\n",
        "U20        37434\n",
        "R35        35205\n",
        "M30        25402\n",
        "U30        24674\n",
        "S10        24410\n",
        "T20        23739\n",
        "M20        22945\n",
        "U60        21971\n",
        "S20        17755\n",
        "M40        15647\n",
        "M50        12867\n",
        "T10        12831\n",
        "T50        11923\n",
        "M01        11518\n",
        "F20        11330\n",
        "A50        10594\n",
        "T00          325\n",
        "C00            1\n",
        "10000          1\n",
        "DE             1\n",
        "dtype: int64"
       ]
      }
     ],
     "prompt_number": 11
    },
    {
     "cell_type": "code",
     "collapsed": false,
     "input": [
      "sub_len = labeled.Expcode.size / 10\n",
      "sub_len"
     ],
     "language": "python",
     "metadata": {},
     "outputs": [
      {
       "metadata": {},
       "output_type": "pyout",
       "prompt_number": 12,
       "text": [
        "1661514"
       ]
      }
     ],
     "prompt_number": 12
    },
    {
     "cell_type": "code",
     "collapsed": false,
     "input": [
      "labeled.ix[labeled.index[0:sub_len]].head(10)"
     ],
     "language": "python",
     "metadata": {},
     "outputs": [
      {
       "html": [
        "<div style=\"max-height:1000px;max-width:1500px;overflow:auto;\">\n",
        "<table border=\"1\" class=\"dataframe\">\n",
        "  <thead>\n",
        "    <tr style=\"text-align: right;\">\n",
        "      <th></th>\n",
        "      <th>Expcode</th>\n",
        "      <th>Descrip</th>\n",
        "    </tr>\n",
        "  </thead>\n",
        "  <tbody>\n",
        "    <tr>\n",
        "      <th>0 </th>\n",
        "      <td> N99</td>\n",
        "      <td>              Debt Reduction</td>\n",
        "    </tr>\n",
        "    <tr>\n",
        "      <th>1 </th>\n",
        "      <td> U10</td>\n",
        "      <td>    Printing - Invoice 11602</td>\n",
        "    </tr>\n",
        "    <tr>\n",
        "      <th>2 </th>\n",
        "      <td> W10</td>\n",
        "      <td>                      Salary</td>\n",
        "    </tr>\n",
        "    <tr>\n",
        "      <th>3 </th>\n",
        "      <td> W10</td>\n",
        "      <td>                      Salary</td>\n",
        "    </tr>\n",
        "    <tr>\n",
        "      <th>4 </th>\n",
        "      <td> W10</td>\n",
        "      <td>                      Salary</td>\n",
        "    </tr>\n",
        "    <tr>\n",
        "      <th>7 </th>\n",
        "      <td> N10</td>\n",
        "      <td> trnsfr. Landry Overcontrib.</td>\n",
        "    </tr>\n",
        "    <tr>\n",
        "      <th>8 </th>\n",
        "      <td> A40</td>\n",
        "      <td>    Airfare, Meals &amp; Lodging</td>\n",
        "    </tr>\n",
        "    <tr>\n",
        "      <th>10</th>\n",
        "      <td> W10</td>\n",
        "      <td>                      Salary</td>\n",
        "    </tr>\n",
        "    <tr>\n",
        "      <th>11</th>\n",
        "      <td> W10</td>\n",
        "      <td>                      Salary</td>\n",
        "    </tr>\n",
        "    <tr>\n",
        "      <th>12</th>\n",
        "      <td> W10</td>\n",
        "      <td>                      Salary</td>\n",
        "    </tr>\n",
        "  </tbody>\n",
        "</table>\n",
        "</div>"
       ],
       "metadata": {},
       "output_type": "pyout",
       "prompt_number": 13,
       "text": [
        "   Expcode                      Descrip\n",
        "0      N99               Debt Reduction\n",
        "1      U10     Printing - Invoice 11602\n",
        "2      W10                       Salary\n",
        "3      W10                       Salary\n",
        "4      W10                       Salary\n",
        "7      N10  trnsfr. Landry Overcontrib.\n",
        "8      A40     Airfare, Meals & Lodging\n",
        "10     W10                       Salary\n",
        "11     W10                       Salary\n",
        "12     W10                       Salary"
       ]
      }
     ],
     "prompt_number": 13
    },
    {
     "cell_type": "code",
     "collapsed": false,
     "input": [
      "random_sub = random.sample(labeled.index,sub_len)"
     ],
     "language": "python",
     "metadata": {},
     "outputs": [],
     "prompt_number": 14
    },
    {
     "cell_type": "code",
     "collapsed": false,
     "input": [
      "labeled_10 = labeled.ix[random_sub]"
     ],
     "language": "python",
     "metadata": {},
     "outputs": [],
     "prompt_number": 15
    },
    {
     "cell_type": "code",
     "collapsed": false,
     "input": [
      "labeled_90 = labeled.drop(random_sub)"
     ],
     "language": "python",
     "metadata": {},
     "outputs": [],
     "prompt_number": 18
    },
    {
     "cell_type": "code",
     "collapsed": false,
     "input": [
      "OUT_TRAIN = os.path.join(DATA_DIR,'crp_expenditures_nov4_7-16_train.csv')\n",
      "OUT_TEST = os.path.join(DATA_DIR,'crp_expenditures_nov4_7-16_test.csv')\n",
      "OUT_PREDICT = os.path.join(DATA_DIR,'crp_expenditures_nov4_7-16_predict.csv')"
     ],
     "language": "python",
     "metadata": {},
     "outputs": [],
     "prompt_number": 19
    },
    {
     "cell_type": "code",
     "collapsed": false,
     "input": [
      "labeled_90.to_csv(OUT_TRAIN, sep=\"\\t\", cols=['Expcode','Descrip'], index=False, header=False)"
     ],
     "language": "python",
     "metadata": {},
     "outputs": [],
     "prompt_number": 22
    },
    {
     "cell_type": "code",
     "collapsed": false,
     "input": [
      "labeled_10.to_csv(OUT_TEST, sep=\"\\t\", cols=['Expcode','Descrip'], index=False, header=False)"
     ],
     "language": "python",
     "metadata": {},
     "outputs": [],
     "prompt_number": 28
    },
    {
     "cell_type": "code",
     "collapsed": false,
     "input": [
      "unlabeled.columns"
     ],
     "language": "python",
     "metadata": {},
     "outputs": [
      {
       "metadata": {},
       "output_type": "pyout",
       "prompt_number": 24,
       "text": [
        "Index([u'cycle', u'ID', u'TransID', u'Expcode', u'Descrip'], dtype=object)"
       ]
      }
     ],
     "prompt_number": 24
    },
    {
     "cell_type": "code",
     "collapsed": false,
     "input": [
      "unlabeled.to_csv(OUT_PREDICT, dialect=libshorttext, index=False)"
     ],
     "language": "python",
     "metadata": {},
     "outputs": [],
     "prompt_number": 25
    },
    {
     "cell_type": "code",
     "collapsed": false,
     "input": [
      "!head /home/blannon/og_data/expenditures/crp_expenditures_nov4/crp_expenditures_nov4_7-16_train.csv"
     ],
     "language": "python",
     "metadata": {},
     "outputs": [
      {
       "output_type": "stream",
       "stream": "stdout",
       "text": [
        "N99\tDebt Reduction\r\n",
        "U10\tPrinting - Invoice 11602\r\n",
        "W10\tSalary\r\n",
        "W10\tSalary\r\n",
        "A40\tAirfare, Meals & Lodging\r\n",
        "W10\tSalary\r\n",
        "W10\tSalary\r\n",
        "W10\tSalary\r\n",
        "W10\tSalary\r\n",
        "M00\tAdvertisement\r\n"
       ]
      }
     ],
     "prompt_number": 26
    },
    {
     "cell_type": "code",
     "collapsed": false,
     "input": [
      "!head /home/blannon/og_data/expenditures/crp_expenditures_nov4/crp_expenditures_nov4_7-16_test.csv"
     ],
     "language": "python",
     "metadata": {},
     "outputs": [
      {
       "output_type": "stream",
       "stream": "stdout",
       "text": [
        "R50\tEarmark Contribution\r\n",
        "A20\tSoftware\r\n",
        "U10\tPostage & Office Supply Reimburseme\r\n",
        "W10\tSalary\r\n",
        "F40\tCredit Card Processing Fees\r\n",
        "A70\tInternet\r\n",
        "R30\tEarmark Contribution\r\n",
        "R30\tCandidate Contrib Earmarked\r\n",
        "R50\tEarmark Contribution\r\n",
        "A70\tCell Phone\r\n"
       ]
      }
     ],
     "prompt_number": 29
    },
    {
     "cell_type": "code",
     "collapsed": false,
     "input": [
      "!head /home/blannon/og_data/expenditures/crp_expenditures_nov4/crp_expenditures_nov4_7-16_predict.csv"
     ],
     "language": "python",
     "metadata": {},
     "outputs": [
      {
       "output_type": "stream",
       "stream": "stdout",
       "text": [
        "cycle,ID,TransID,Expcode,Descrip\r\n",
        "2002,6,1114200146E3224,,ROOM RENTAL\r\n",
        "2002,7,1114200148E3282,,TELECOMMUNICATIONS\r\n",
        "2002,10,SB17.8087,,Donation - Purchase of Tickets\r\n",
        "2002,20,SB17.8089,,Slary\r\n",
        "2002,26,SB17.8065,,Refinishing of Congressman's Desk\r\n",
        "2002,32,1114200149E3292,,SERVICE CHARGE\r\n",
        "2002,33,1114200149E3294,,SERVICE CHARGE\r\n",
        "2002,36,1114200149E3300,,SERVICE CHARGE\r\n",
        "2002,41,1114200148E3271,,EQUIPMENT LEASE\r\n"
       ]
      }
     ],
     "prompt_number": 30
    },
    {
     "cell_type": "code",
     "collapsed": false,
     "input": [],
     "language": "python",
     "metadata": {},
     "outputs": []
    }
   ],
   "metadata": {}
  }
 ]
}