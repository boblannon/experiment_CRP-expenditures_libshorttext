{
 "metadata": {
  "name": ""
 },
 "nbformat": 3,
 "nbformat_minor": 0,
 "worksheets": [
  {
   "cells": [
    {
     "cell_type": "markdown",
     "metadata": {},
     "source": [
      "# TODO: \n",
      "\n",
      "* analyzing results\n",
      "* move on to fully integrated approach"
     ]
    },
    {
     "cell_type": "code",
     "collapsed": false,
     "input": [
      "import sys\n",
      "import os\n",
      "import csv\n",
      "import json\n",
      "\n",
      "import numpy as np\n",
      "import pandas as pd\n",
      "\n",
      "from libshorttext.converter import Text2svmConverter, FeatureGenerator, TextPreprocessor, convert_text\n",
      "from libshorttext.classifier import train_converted_text"
     ],
     "language": "python",
     "metadata": {},
     "outputs": [
      {
       "output_type": "stream",
       "stream": "stderr",
       "text": [
        "/home/blannon/epd/lib/python2.7/site-packages/pytz/__init__.py:35: UserWarning: Module argparse was already imported from /home/blannon/epd/lib/python2.7/argparse.pyc, but /home/blannon/epd/lib/python2.7/site-packages is being added to sys.path\n",
        "  from pkg_resources import resource_stream\n"
       ]
      }
     ],
     "prompt_number": 1
    },
    {
     "cell_type": "code",
     "collapsed": false,
     "input": [
      "project_name = 'crp_expenditures_nov4_7-16'"
     ],
     "language": "python",
     "metadata": {},
     "outputs": [],
     "prompt_number": 2
    },
    {
     "cell_type": "code",
     "collapsed": false,
     "input": [
      "!tree"
     ],
     "language": "python",
     "metadata": {},
     "outputs": [
      {
       "output_type": "stream",
       "stream": "stdout",
       "text": [
        "\u001b[01;34m.\u001b[00m\r\n",
        "\u251c\u2500\u2500 \u001b[01;34mconverters\u001b[00m\r\n",
        "\u2502\u00a0\u00a0 \u251c\u2500\u2500 \u001b[01;34mcrp_expenditures_nov4_7-16.converter\u001b[00m\r\n",
        "\u2502\u00a0\u00a0 \u2502\u00a0\u00a0 \u251c\u2500\u2500 class_map.config.pickle\r\n",
        "\u2502\u00a0\u00a0 \u2502\u00a0\u00a0 \u251c\u2500\u2500 feat_gen.config.pickle\r\n",
        "\u2502\u00a0\u00a0 \u2502\u00a0\u00a0 \u2514\u2500\u2500 text_prep.config.pickle\r\n",
        "\u2502\u00a0\u00a0 \u251c\u2500\u2500 \u001b[01;34mcrp_expenditures_nov4_7-6.converter\u001b[00m\r\n",
        "\u2502\u00a0\u00a0 \u2502\u00a0\u00a0 \u251c\u2500\u2500 feat_gen.config.pickle\r\n",
        "\u2502\u00a0\u00a0 \u2502\u00a0\u00a0 \u2514\u2500\u2500 text_prep.config.pickle\r\n",
        "\u2502\u00a0\u00a0 \u251c\u2500\u2500 \u001b[01;34mdescrip.labeled.csv.text_converter\u001b[00m\r\n",
        "\u2502\u00a0\u00a0 \u2502\u00a0\u00a0 \u251c\u2500\u2500 class_map.config.pickle\r\n",
        "\u2502\u00a0\u00a0 \u2502\u00a0\u00a0 \u251c\u2500\u2500 feat_gen.config.pickle\r\n",
        "\u2502\u00a0\u00a0 \u2502\u00a0\u00a0 \u2514\u2500\u2500 text_prep.config.pickle\r\n",
        "\u2502\u00a0\u00a0 \u251c\u2500\u2500 \u001b[01;34mexpends2012.description.shuffled-labeled.csv.text_converter\u001b[00m\r\n",
        "\u2502\u00a0\u00a0 \u2502\u00a0\u00a0 \u251c\u2500\u2500 class_map.config.pickle\r\n",
        "\u2502\u00a0\u00a0 \u2502\u00a0\u00a0 \u251c\u2500\u2500 feat_gen.config.pickle\r\n",
        "\u2502\u00a0\u00a0 \u2502\u00a0\u00a0 \u2514\u2500\u2500 text_prep.config.pickle\r\n",
        "\u2502\u00a0\u00a0 \u2514\u2500\u2500 \u001b[01;34mexpends2012.description.sorted-labeled.csv.text_converter\u001b[00m\r\n",
        "\u2502\u00a0\u00a0     \u251c\u2500\u2500 class_map.config.pickle\r\n",
        "\u2502\u00a0\u00a0     \u251c\u2500\u2500 feat_gen.config.pickle\r\n",
        "\u2502\u00a0\u00a0     \u2514\u2500\u2500 text_prep.config.pickle\r\n",
        "\u251c\u2500\u2500 \u001b[01;34mdata\u001b[00m\r\n",
        "\u2502\u00a0\u00a0 \u251c\u2500\u2500 \u001b[01;34mclean\u001b[00m\r\n",
        "\u2502\u00a0\u00a0 \u2502\u00a0\u00a0 \u251c\u2500\u2500 crp_expenditures_nov4_7-16_predict.csv\r\n",
        "\u2502\u00a0\u00a0 \u2502\u00a0\u00a0 \u251c\u2500\u2500 crp_expenditures_nov4_7-16_test.csv\r\n",
        "\u2502\u00a0\u00a0 \u2502\u00a0\u00a0 \u2514\u2500\u2500 crp_expenditures_nov4_7-16_train.csv\r\n",
        "\u2502\u00a0\u00a0 \u251c\u2500\u2500 \u001b[01;34mlabeled\u001b[00m\r\n",
        "\u2502\u00a0\u00a0 \u2502\u00a0\u00a0 \u251c\u2500\u2500 \u001b[01;34mtest\u001b[00m\r\n",
        "\u2502\u00a0\u00a0 \u2502\u00a0\u00a0 \u2514\u2500\u2500 \u001b[01;34mtrain\u001b[00m\r\n",
        "\u2502\u00a0\u00a0 \u2502\u00a0\u00a0     \u2514\u2500\u2500 crp_expenditures_nov4_7-16_train.svm\r\n",
        "\u2502\u00a0\u00a0 \u251c\u2500\u2500 \u001b[01;34mraw\u001b[00m\r\n",
        "\u2502\u00a0\u00a0 \u2514\u2500\u2500 \u001b[01;34munlabeled\u001b[00m\r\n",
        "\u251c\u2500\u2500 data_workflow.ipynb\r\n",
        "\u251c\u2500\u2500 directory_structure.txt\r\n",
        "\u251c\u2500\u2500 expenditure_codes.csv\r\n",
        "\u251c\u2500\u2500 expendsALL_guesses.csv\r\n",
        "\u251c\u2500\u2500 \u001b[01;31mexpendsALL_guesses.csv.zip\u001b[00m\r\n",
        "\u251c\u2500\u2500 \u001b[01;34mlog\u001b[00m\r\n",
        "\u2502\u00a0\u00a0 \u251c\u2500\u2500 convert.log\r\n",
        "\u2502\u00a0\u00a0 \u251c\u2500\u2500 test.log\r\n",
        "\u2502\u00a0\u00a0 \u2514\u2500\u2500 train.log\r\n",
        "\u251c\u2500\u2500 \u001b[01;34mmodels\u001b[00m\r\n",
        "\u2502\u00a0\u00a0 \u251c\u2500\u2500 \u001b[01;34mdescrip.labeled.csv.svm.model\u001b[00m\r\n",
        "\u2502\u00a0\u00a0 \u2502\u00a0\u00a0 \u251c\u2500\u2500 \u001b[01;34mconverter\u001b[00m\r\n",
        "\u2502\u00a0\u00a0 \u2502\u00a0\u00a0 \u2502\u00a0\u00a0 \u251c\u2500\u2500 class_map.config.pickle\r\n",
        "\u2502\u00a0\u00a0 \u2502\u00a0\u00a0 \u2502\u00a0\u00a0 \u251c\u2500\u2500 feat_gen.config.pickle\r\n",
        "\u2502\u00a0\u00a0 \u2502\u00a0\u00a0 \u2502\u00a0\u00a0 \u2514\u2500\u2500 text_prep.config.pickle\r\n",
        "\u2502\u00a0\u00a0 \u2502\u00a0\u00a0 \u251c\u2500\u2500 id\r\n",
        "\u2502\u00a0\u00a0 \u2502\u00a0\u00a0 \u2514\u2500\u2500 \u001b[01;34mlearner\u001b[00m\r\n",
        "\u2502\u00a0\u00a0 \u2502\u00a0\u00a0     \u251c\u2500\u2500 idf.pickle\r\n",
        "\u2502\u00a0\u00a0 \u2502\u00a0\u00a0     \u251c\u2500\u2500 liblinear_model\r\n",
        "\u2502\u00a0\u00a0 \u2502\u00a0\u00a0     \u2514\u2500\u2500 options.pickle\r\n",
        "\u2502\u00a0\u00a0 \u2514\u2500\u2500 \u001b[01;34mexpends2012.description.sorted-labeled.csv.svm.model\u001b[00m\r\n",
        "\u2502\u00a0\u00a0     \u251c\u2500\u2500 \u001b[01;34mconverter\u001b[00m\r\n",
        "\u2502\u00a0\u00a0     \u2502\u00a0\u00a0 \u251c\u2500\u2500 class_map.config.pickle\r\n",
        "\u2502\u00a0\u00a0     \u2502\u00a0\u00a0 \u251c\u2500\u2500 feat_gen.config.pickle\r\n",
        "\u2502\u00a0\u00a0     \u2502\u00a0\u00a0 \u2514\u2500\u2500 text_prep.config.pickle\r\n",
        "\u2502\u00a0\u00a0     \u251c\u2500\u2500 id\r\n",
        "\u2502\u00a0\u00a0     \u2514\u2500\u2500 \u001b[01;34mlearner\u001b[00m\r\n",
        "\u2502\u00a0\u00a0         \u251c\u2500\u2500 idf.pickle\r\n",
        "\u2502\u00a0\u00a0         \u251c\u2500\u2500 liblinear_model\r\n",
        "\u2502\u00a0\u00a0         \u2514\u2500\u2500 options.pickle\r\n",
        "\u251c\u2500\u2500 prediction_demo.ipynb\r\n",
        "\u251c\u2500\u2500 preparing_data.ipynb\r\n",
        "\u251c\u2500\u2500 \u001b[01;34mresults\u001b[00m\r\n",
        "\u2502\u00a0\u00a0 \u251c\u2500\u2500 descrip.unlabeled.results.csv\r\n",
        "\u2502\u00a0\u00a0 \u251c\u2500\u2500 \u001b[01;31mdescrip.unlabeled.results.csv.zip\u001b[00m\r\n",
        "\u2502\u00a0\u00a0 \u251c\u2500\u2500 descrip.unlabeled.results_out.csv\r\n",
        "\u2502\u00a0\u00a0 \u251c\u2500\u2500 expends2012.description.unlabeled.results.csv\r\n",
        "\u2502\u00a0\u00a0 \u2514\u2500\u2500 expends2012.unlabeled.full.results.csv\r\n",
        "\u251c\u2500\u2500 \u001b[01;34mscripts\u001b[00m\r\n",
        "\u2502\u00a0\u00a0 \u251c\u2500\u2500 \u001b[01;32mconvert.sh\u001b[00m\r\n",
        "\u2502\u00a0\u00a0 \u251c\u2500\u2500 \u001b[01;32mhistory.sh\u001b[00m\r\n",
        "\u2502\u00a0\u00a0 \u251c\u2500\u2500 make_all_descriptions.py\r\n",
        "\u2502\u00a0\u00a0 \u251c\u2500\u2500 mysql-dump-table.txt\r\n",
        "\u2502\u00a0\u00a0 \u251c\u2500\u2500 predict_on_full_unlabeled_table.py\r\n",
        "\u2502\u00a0\u00a0 \u251c\u2500\u2500 predict_unlabeled.py\r\n",
        "\u2502\u00a0\u00a0 \u251c\u2500\u2500 \u001b[01;32mtrain.sh\u001b[00m\r\n",
        "\u2502\u00a0\u00a0 \u2514\u2500\u2500 unlabeled_prediction.py\r\n",
        "\u251c\u2500\u2500 \u001b[01;34msettings\u001b[00m\r\n",
        "\u2502\u00a0\u00a0 \u2514\u2500\u2500 crp_expenditures_nov4_7-6_settings.json\r\n",
        "\u2514\u2500\u2500 train_and_test.ipynb\r\n",
        "\r\n",
        "24 directories, 57 files\r\n"
       ]
      }
     ],
     "prompt_number": 3
    },
    {
     "cell_type": "code",
     "collapsed": false,
     "input": [
      "BASE_DIR = '/home/blannon/Dropbox/dev/experiments/CRP-expenditures_libshorttext/'\n",
      "\n",
      "CONVERTER_DIR = os.path.join(BASE_DIR, 'converters')\n",
      "\n",
      "DATA_DIR = os.path.join(BASE_DIR, 'data')\n",
      "CLEAN_DIR = os.path.join(DATA_DIR, 'clean')\n",
      "TRAIN_DIR = os.path.join(DATA_DIR, 'labeled', 'train')\n",
      "TEST_DIR = os.path.join(DATA_DIR, 'labeled', 'test')\n",
      "\n",
      "train_csv = os.path.join(CLEAN_DIR, project_name + '_train.csv')\n",
      "test_csv = os.path.join(CLEAN_DIR, project_name + '_test.csv')\n",
      "\n",
      "train_svm = os.path.join(TRAIN_DIR, project_name + '_train.svm')\n",
      "test_svm = os.path.join(TEST_DIR, project_name + '_test.svm')\n",
      "\n",
      "MODELS_DIR = os.path.join(BASE_DIR, 'models')"
     ],
     "language": "python",
     "metadata": {},
     "outputs": [
      {
       "ename": "NameError",
       "evalue": "name 'os' is not defined",
       "output_type": "pyerr",
       "traceback": [
        "\u001b[1;31m---------------------------------------------------------------------------\u001b[0m\n\u001b[1;31mNameError\u001b[0m                                 Traceback (most recent call last)",
        "\u001b[1;32m<ipython-input-1-8657f3549596>\u001b[0m in \u001b[0;36m<module>\u001b[1;34m()\u001b[0m\n\u001b[0;32m      1\u001b[0m \u001b[0mBASE_DIR\u001b[0m \u001b[1;33m=\u001b[0m \u001b[1;34m'/home/blannon/Dropbox/dev/experiments/CRP-expenditures_libshorttext/'\u001b[0m\u001b[1;33m\u001b[0m\u001b[0m\n\u001b[0;32m      2\u001b[0m \u001b[1;33m\u001b[0m\u001b[0m\n\u001b[1;32m----> 3\u001b[1;33m \u001b[0mCONVERTER_DIR\u001b[0m \u001b[1;33m=\u001b[0m \u001b[0mos\u001b[0m\u001b[1;33m.\u001b[0m\u001b[0mpath\u001b[0m\u001b[1;33m.\u001b[0m\u001b[0mjoin\u001b[0m\u001b[1;33m(\u001b[0m\u001b[0mBASE_DIR\u001b[0m\u001b[1;33m,\u001b[0m \u001b[1;34m'converters'\u001b[0m\u001b[1;33m)\u001b[0m\u001b[1;33m\u001b[0m\u001b[0m\n\u001b[0m\u001b[0;32m      4\u001b[0m \u001b[1;33m\u001b[0m\u001b[0m\n\u001b[0;32m      5\u001b[0m \u001b[0mDATA_DIR\u001b[0m \u001b[1;33m=\u001b[0m \u001b[0mos\u001b[0m\u001b[1;33m.\u001b[0m\u001b[0mpath\u001b[0m\u001b[1;33m.\u001b[0m\u001b[0mjoin\u001b[0m\u001b[1;33m(\u001b[0m\u001b[0mBASE_DIR\u001b[0m\u001b[1;33m,\u001b[0m \u001b[1;34m'data'\u001b[0m\u001b[1;33m)\u001b[0m\u001b[1;33m\u001b[0m\u001b[0m\n",
        "\u001b[1;31mNameError\u001b[0m: name 'os' is not defined"
       ]
      }
     ],
     "prompt_number": 1
    },
    {
     "cell_type": "code",
     "collapsed": false,
     "input": [
      "settings = {}\n",
      "\n",
      "# STEMMING: 1 to use porter, 0 for no stemming, or give your \n",
      "#           own stemmer that maps from a list of tokens to a \n",
      "#           list of stemmed tokens\n",
      "settings['stemming'] = '1'\n",
      "\n",
      "# STOPWORDS: 1 to use default stops, 0 for no stops, or give\n",
      "#            a list of stopwords to be used\n",
      "settings['stopword'] = '0'\n",
      "\n",
      "# NGRAM: 1 to use bigram, 0 to use unigram\n",
      "settings['ngram'] = '0'\n",
      "\n",
      "json.dump(settings, \n",
      "          open( \n",
      "               os.path.join(\n",
      "                            'settings',\n",
      "                            project_name + '_settings.json'), \n",
      "               'w'),\n",
      "          indent=2)"
     ],
     "language": "python",
     "metadata": {},
     "outputs": [],
     "prompt_number": 5
    },
    {
     "cell_type": "code",
     "collapsed": false,
     "input": [
      "!cat settings/crp_expenditures_nov4_7-6_settings.json"
     ],
     "language": "python",
     "metadata": {},
     "outputs": [
      {
       "output_type": "stream",
       "stream": "stdout",
       "text": [
        "{\r\n",
        "  \"stopword\": \"0\", \r\n",
        "  \"ngram\": \"0\", \r\n",
        "  \"stemming\": \"1\"\r\n",
        "}"
       ]
      }
     ],
     "prompt_number": 6
    },
    {
     "cell_type": "code",
     "collapsed": false,
     "input": [
      "tp_option_str = \"-stopword {stopword} -stemming {stemming}\".format(**settings)\n",
      "text_processor = TextPreprocessor(option=tp_option_str)"
     ],
     "language": "python",
     "metadata": {},
     "outputs": [],
     "prompt_number": 7
    },
    {
     "cell_type": "code",
     "collapsed": false,
     "input": [
      "fg_option_str = \"-feature {ngram}\".format(**settings)\n",
      "feature_generator = FeatureGenerator(option=fg_option_str)"
     ],
     "language": "python",
     "metadata": {},
     "outputs": [],
     "prompt_number": 8
    },
    {
     "cell_type": "code",
     "collapsed": false,
     "input": [
      "text_converter = Text2svmConverter()"
     ],
     "language": "python",
     "metadata": {},
     "outputs": [],
     "prompt_number": 9
    },
    {
     "cell_type": "code",
     "collapsed": false,
     "input": [
      "text_converter.feat_gen = feature_generator\n",
      "text_converter.text_prep = text_processor"
     ],
     "language": "python",
     "metadata": {},
     "outputs": [],
     "prompt_number": 10
    },
    {
     "cell_type": "code",
     "collapsed": false,
     "input": [],
     "language": "python",
     "metadata": {},
     "outputs": [],
     "prompt_number": 11
    },
    {
     "cell_type": "code",
     "collapsed": false,
     "input": [
      "convert_text(train_csv, text_converter, train_svm)"
     ],
     "language": "python",
     "metadata": {},
     "outputs": [],
     "prompt_number": 12
    },
    {
     "cell_type": "code",
     "collapsed": false,
     "input": [
      "text_converter.save(os.path.join(CONVERTER_DIR, project_name + '.converter'))"
     ],
     "language": "python",
     "metadata": {},
     "outputs": [],
     "prompt_number": 13
    },
    {
     "cell_type": "code",
     "collapsed": false,
     "input": [
      "!head data/labeled/train/crp_expenditures_nov4_7-16_train.svm"
     ],
     "language": "python",
     "metadata": {},
     "outputs": [
      {
       "output_type": "stream",
       "stream": "stdout",
       "text": [
        "0  1:1 2:1\r\n",
        "1  3:1 4:1 5:1\r\n",
        "2  6:1\r\n",
        "2  6:1\r\n",
        "3  7:1 8:1 9:1\r\n",
        "2  6:1\r\n",
        "2  6:1\r\n",
        "2  6:1\r\n",
        "2  6:1\r\n",
        "4  10:1\r\n"
       ]
      }
     ],
     "prompt_number": 14
    },
    {
     "cell_type": "code",
     "collapsed": false,
     "input": [
      "!head data/clean/crp_expenditures_nov4_7-16_train.csv"
     ],
     "language": "python",
     "metadata": {},
     "outputs": [
      {
       "output_type": "stream",
       "stream": "stdout",
       "text": [
        "N99\tDebt Reduction\r\n",
        "U10\tPrinting - Invoice 11602\r\n",
        "W10\tSalary\r\n",
        "W10\tSalary\r\n",
        "A40\tAirfare, Meals & Lodging\r\n",
        "W10\tSalary\r\n",
        "W10\tSalary\r\n",
        "W10\tSalary\r\n",
        "W10\tSalary\r\n",
        "M00\tAdvertisement\r\n"
       ]
      }
     ],
     "prompt_number": 15
    },
    {
     "cell_type": "code",
     "collapsed": false,
     "input": [
      "text_model = train_converted_text(train_svm, text_converter)"
     ],
     "language": "python",
     "metadata": {},
     "outputs": [],
     "prompt_number": "*"
    },
    {
     "cell_type": "code",
     "collapsed": false,
     "input": [
      "text_model.save(os.path.join(MODEL_DIR,project_name+'.model'))"
     ],
     "language": "python",
     "metadata": {},
     "outputs": [
      {
       "ename": "NameError",
       "evalue": "name 'text_model' is not defined",
       "output_type": "pyerr",
       "traceback": [
        "\u001b[1;31m---------------------------------------------------------------------------\u001b[0m\n\u001b[1;31mNameError\u001b[0m                                 Traceback (most recent call last)",
        "\u001b[1;32m<ipython-input-2-5a21c1fd6aff>\u001b[0m in \u001b[0;36m<module>\u001b[1;34m()\u001b[0m\n\u001b[1;32m----> 1\u001b[1;33m \u001b[0mtext_model\u001b[0m\u001b[1;33m.\u001b[0m\u001b[0msave\u001b[0m\u001b[1;33m(\u001b[0m\u001b[0mos\u001b[0m\u001b[1;33m.\u001b[0m\u001b[0mpath\u001b[0m\u001b[1;33m.\u001b[0m\u001b[0mjoin\u001b[0m\u001b[1;33m(\u001b[0m\u001b[0mMODEL_DIR\u001b[0m\u001b[1;33m,\u001b[0m\u001b[0mproject_name\u001b[0m\u001b[1;33m+\u001b[0m\u001b[1;34m'.model'\u001b[0m\u001b[1;33m)\u001b[0m\u001b[1;33m)\u001b[0m\u001b[1;33m\u001b[0m\u001b[0m\n\u001b[0m",
        "\u001b[1;31mNameError\u001b[0m: name 'text_model' is not defined"
       ]
      }
     ],
     "prompt_number": 2
    },
    {
     "cell_type": "code",
     "collapsed": false,
     "input": [
      "predictionResult = predict_text(test_csv, text_model)"
     ],
     "language": "python",
     "metadata": {},
     "outputs": []
    }
   ],
   "metadata": {}
  }
 ]
}